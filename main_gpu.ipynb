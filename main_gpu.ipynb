{
 "cells": [
  {
   "cell_type": "markdown",
   "metadata": {
    "id": "09JfKhXcFMch"
   },
   "source": [
    "# Imports"
   ]
  },
  {
   "cell_type": "code",
   "metadata": {
    "id": "e_nBuJO2DgQ-",
    "ExecuteTime": {
     "end_time": "2024-07-16T18:31:30.709026Z",
     "start_time": "2024-07-16T18:31:30.700811Z"
    }
   },
   "source": [
    "import numpy as np\n",
    "import pandas as pd\n",
    "import seaborn as sns\n",
    "import nltk\n",
    "import string\n",
    "from nltk.corpus import stopwords\n",
    "from nltk.tokenize import word_tokenize\n",
    "from nltk.stem import PorterStemmer\n",
    "from matplotlib import pyplot as plt\n",
    "from sklearn.feature_extraction.text import TfidfVectorizer\n",
    "from sklearn.model_selection import train_test_split\n",
    "from sklearn.metrics import classification_report\n",
    "from sklearn.svm import SVC\n",
    "from tensorflow.keras.preprocessing.text import Tokenizer\n",
    "from tensorflow.keras.preprocessing.sequence import pad_sequences\n",
    "from tensorflow.keras.utils import to_categorical\n",
    "from tensorflow.keras.models import Sequential\n",
    "from tensorflow.keras.layers import Embedding, LSTM, Dense, Dropout\n",
    "from tensorflow.keras.callbacks import ModelCheckpoint"
   ],
   "outputs": [],
   "execution_count": 7
  },
  {
   "cell_type": "markdown",
   "metadata": {
    "id": "9wrICYCTFPW4"
   },
   "source": [
    "# Dataset"
   ]
  },
  {
   "cell_type": "code",
   "metadata": {
    "id": "Uh5hl1OCEhd6",
    "ExecuteTime": {
     "end_time": "2024-07-16T18:31:35.185055Z",
     "start_time": "2024-07-16T18:31:30.788488Z"
    }
   },
   "source": [
    "df = pd.read_csv('https://gist.githubusercontent.com/tnpb-1st/ec2a10f0b5b0fb3612e753d1af76907e/raw/211a0275f5341fe92ad3aafd4c933afec9df36fa/mental-health.csv')\n",
    "processed_df = pd.read_csv('https://gist.githubusercontent.com/tnpb-1st/ec2a10f0b5b0fb3612e753d1af76907e/raw/b41ef9244a9eb8756e58a35c79e74011483a62e4/mental-helth-processed.csv')"
   ],
   "outputs": [],
   "execution_count": 8
  },
  {
   "cell_type": "code",
   "metadata": {
    "id": "r0S8iYFUFBKL",
    "colab": {
     "base_uri": "https://localhost:8080/"
    },
    "outputId": "701c4b1d-f33d-48ab-c3f7-857e9bf4d3a4",
    "ExecuteTime": {
     "end_time": "2024-07-16T18:31:35.193887Z",
     "start_time": "2024-07-16T18:31:35.186894Z"
    }
   },
   "source": [
    "df.head()"
   ],
   "outputs": [
    {
     "data": {
      "text/plain": [
       "   Unnamed: 0                                          statement   status\n",
       "0           0                                         oh my gosh  Anxiety\n",
       "1           1  trouble sleeping, confused mind, restless hear...  Anxiety\n",
       "2           2  All wrong, back off dear, forward doubt. Stay ...  Anxiety\n",
       "3           3  I've shifted my focus to something else but I'...  Anxiety\n",
       "4           4  I'm restless and restless, it's been a month n...  Anxiety"
      ],
      "text/html": [
       "<div>\n",
       "<style scoped>\n",
       "    .dataframe tbody tr th:only-of-type {\n",
       "        vertical-align: middle;\n",
       "    }\n",
       "\n",
       "    .dataframe tbody tr th {\n",
       "        vertical-align: top;\n",
       "    }\n",
       "\n",
       "    .dataframe thead th {\n",
       "        text-align: right;\n",
       "    }\n",
       "</style>\n",
       "<table border=\"1\" class=\"dataframe\">\n",
       "  <thead>\n",
       "    <tr style=\"text-align: right;\">\n",
       "      <th></th>\n",
       "      <th>Unnamed: 0</th>\n",
       "      <th>statement</th>\n",
       "      <th>status</th>\n",
       "    </tr>\n",
       "  </thead>\n",
       "  <tbody>\n",
       "    <tr>\n",
       "      <th>0</th>\n",
       "      <td>0</td>\n",
       "      <td>oh my gosh</td>\n",
       "      <td>Anxiety</td>\n",
       "    </tr>\n",
       "    <tr>\n",
       "      <th>1</th>\n",
       "      <td>1</td>\n",
       "      <td>trouble sleeping, confused mind, restless hear...</td>\n",
       "      <td>Anxiety</td>\n",
       "    </tr>\n",
       "    <tr>\n",
       "      <th>2</th>\n",
       "      <td>2</td>\n",
       "      <td>All wrong, back off dear, forward doubt. Stay ...</td>\n",
       "      <td>Anxiety</td>\n",
       "    </tr>\n",
       "    <tr>\n",
       "      <th>3</th>\n",
       "      <td>3</td>\n",
       "      <td>I've shifted my focus to something else but I'...</td>\n",
       "      <td>Anxiety</td>\n",
       "    </tr>\n",
       "    <tr>\n",
       "      <th>4</th>\n",
       "      <td>4</td>\n",
       "      <td>I'm restless and restless, it's been a month n...</td>\n",
       "      <td>Anxiety</td>\n",
       "    </tr>\n",
       "  </tbody>\n",
       "</table>\n",
       "</div>"
      ]
     },
     "execution_count": 9,
     "metadata": {},
     "output_type": "execute_result"
    }
   ],
   "execution_count": 9
  },
  {
   "cell_type": "code",
   "metadata": {
    "id": "7JRQTvrNoMqe",
    "colab": {
     "base_uri": "https://localhost:8080/"
    },
    "outputId": "3ef3faa0-713c-4ef2-c1b7-07fdc586d53c",
    "ExecuteTime": {
     "end_time": "2024-07-16T18:31:35.204051Z",
     "start_time": "2024-07-16T18:31:35.195236Z"
    }
   },
   "source": [
    "print(processed_df.head())\n",
    "print('='*50)\n",
    "print(processed_df['status'].value_counts())\n",
    "print('='*50)\n",
    "print(processed_df.shape)"
   ],
   "outputs": [
    {
     "name": "stdout",
     "output_type": "stream",
     "text": [
      "                                           statement   status  \\\n",
      "0                                         oh my gosh  Anxiety   \n",
      "1  trouble sleeping, confused mind, restless hear...  Anxiety   \n",
      "2  All wrong, back off dear, forward doubt. Stay ...  Anxiety   \n",
      "3  I've shifted my focus to something else but I'...  Anxiety   \n",
      "4  I'm restless and restless, it's been a month n...  Anxiety   \n",
      "\n",
      "                                 processed_statement  \n",
      "0                                            oh gosh  \n",
      "1       troubl sleep confus mind restless heart tune  \n",
      "2  wrong back dear forward doubt stay restless re...  \n",
      "3                  shift focu someth els still worri  \n",
      "4                   restless restless month boy mean  \n",
      "==================================================\n",
      "status\n",
      "Normal                  16343\n",
      "Depression              15404\n",
      "Suicidal                10652\n",
      "Anxiety                  3841\n",
      "Bipolar                  2777\n",
      "Stress                   2587\n",
      "Personality disorder     1077\n",
      "Name: count, dtype: int64\n",
      "==================================================\n",
      "(52681, 3)\n"
     ]
    }
   ],
   "execution_count": 10
  },
  {
   "cell_type": "code",
   "metadata": {
    "id": "CHPz3bS1Rd_Y",
    "ExecuteTime": {
     "end_time": "2024-07-16T18:31:35.220783Z",
     "start_time": "2024-07-16T18:31:35.206197Z"
    }
   },
   "source": [
    "# Removing the unnamed column and the null value rows\n",
    "df.drop(columns=['Unnamed: 0'], inplace=True)\n",
    "df.dropna(subset=['statement'], inplace=True)"
   ],
   "outputs": [],
   "execution_count": 11
  },
  {
   "cell_type": "code",
   "metadata": {
    "id": "prPWuR82FesP",
    "colab": {
     "base_uri": "https://localhost:8080/"
    },
    "outputId": "3a47e16b-9c60-4e3a-cbfc-e5d55b0cf4c5",
    "ExecuteTime": {
     "end_time": "2024-07-16T18:31:35.436543Z",
     "start_time": "2024-07-16T18:31:35.222498Z"
    }
   },
   "source": [
    "df.groupby('status').size().plot(kind='barh', color=sns.palettes.mpl_palette('Dark2'))\n",
    "plt.gca().spines[['top', 'right',]].set_visible(False)"
   ],
   "outputs": [
    {
     "data": {
      "text/plain": [
       "<Figure size 640x480 with 1 Axes>"
      ],
      "image/png": "[encoded data removed]"
     },
     "metadata": {},
     "output_type": "display_data"
    }
   ],
   "execution_count": 12
  },
  {
   "cell_type": "code",
   "metadata": {
    "id": "o2EqGwipFSxC",
    "colab": {
     "base_uri": "https://localhost:8080/"
    },
    "outputId": "d6ee96c0-32b2-4426-f2bd-3214fd2717c4",
    "ExecuteTime": {
     "end_time": "2024-07-16T18:31:35.445137Z",
     "start_time": "2024-07-16T18:31:35.437769Z"
    }
   },
   "source": [
    "df['status'].value_counts()"
   ],
   "outputs": [
    {
     "data": {
      "text/plain": [
       "status\n",
       "Normal                  16343\n",
       "Depression              15404\n",
       "Suicidal                10652\n",
       "Anxiety                  3841\n",
       "Bipolar                  2777\n",
       "Stress                   2587\n",
       "Personality disorder     1077\n",
       "Name: count, dtype: int64"
      ]
     },
     "execution_count": 13,
     "metadata": {},
     "output_type": "execute_result"
    }
   ],
   "execution_count": 13
  },
  {
   "cell_type": "markdown",
   "metadata": {
    "id": "voVO95ZiStk-"
   },
   "source": [
    "# Processamento dos Dados"
   ]
  },
  {
   "cell_type": "code",
   "metadata": {
    "id": "LSXRfXo7SveG",
    "colab": {
     "base_uri": "https://localhost:8080/"
    },
    "outputId": "a1701e7e-894c-43f1-908f-4ead1c054144",
    "ExecuteTime": {
     "end_time": "2024-07-16T18:31:35.571312Z",
     "start_time": "2024-07-16T18:31:35.446656Z"
    }
   },
   "source": [
    "# Baixa os dados necessários do NLTK\n",
    "nltk.download('punkt')\n",
    "nltk.download('stopwords')\n",
    "\n",
    "# Define a função para pré-processar o texto\n",
    "def preprocess_text(text):\n",
    "    # Converte o texto para minúsculas e o tokeniza (separa em palavras)\n",
    "    tokens = word_tokenize(text.lower())\n",
    "\n",
    "    # Remove tokens que não são alfanuméricos (mantém apenas palavras e números)\n",
    "    tokens = [word for word in tokens if word.isalnum()]\n",
    "\n",
    "    # Remove stop words (palavras comuns que não adicionam muito significado, como \"e\", \"o\", \"a\", etc.)\n",
    "    tokens = [word for word in tokens if word not in stopwords.words('english')]\n",
    "\n",
    "    # Cria um objeto do tipo PorterStemmer para realizar stemming\n",
    "    stemmer = PorterStemmer()\n",
    "    # Aplica stemming a cada token (reduz as palavras à sua raiz)\n",
    "    tokens = [stemmer.stem(word) for word in tokens]\n",
    "\n",
    "    # Junta os tokens processados de volta em uma string, com espaços entre eles\n",
    "    preprocessed_text = ' '.join(tokens)\n",
    "\n",
    "    # Retorna o texto pré-processado\n",
    "    return preprocessed_text"
   ],
   "outputs": [
    {
     "name": "stderr",
     "output_type": "stream",
     "text": [
      "[nltk_data] Downloading package punkt to /home/tnpb/nltk_data...\n",
      "[nltk_data]   Package punkt is already up-to-date!\n",
      "[nltk_data] Downloading package stopwords to /home/tnpb/nltk_data...\n",
      "[nltk_data]   Package stopwords is already up-to-date!\n"
     ]
    }
   ],
   "execution_count": 14
  },
  {
   "cell_type": "code",
   "metadata": {
    "id": "1gko_cEDW8TL",
    "ExecuteTime": {
     "end_time": "2024-07-16T18:31:35.575182Z",
     "start_time": "2024-07-16T18:31:35.572656Z"
    }
   },
   "source": [
    "# Aplica a função de pré-processamento à coluna 'statement' de um DataFrame\n",
    "# df['processed_statement'] = df['statement'].apply(preprocess_text)\n",
    "\n",
    "# Imprime as primeiras linhas do DataFrame com as colunas 'statement' e 'processed_statement'\n",
    "# print(df[['statement', 'processed_statement']].head())"
   ],
   "outputs": [],
   "execution_count": 15
  },
  {
   "cell_type": "code",
   "metadata": {
    "id": "b0nL1AK1Wiql",
    "ExecuteTime": {
     "end_time": "2024-07-16T18:31:35.596085Z",
     "start_time": "2024-07-16T18:31:35.576582Z"
    }
   },
   "source": [
    "df = processed_df.dropna()"
   ],
   "outputs": [],
   "execution_count": 16
  },
  {
   "cell_type": "code",
   "metadata": {
    "id": "_2QA5DQMZNMj",
    "colab": {
     "base_uri": "https://localhost:8080/"
    },
    "outputId": "ca81a0b3-de40-4983-b594-e7b323a3ed9e",
    "ExecuteTime": {
     "end_time": "2024-07-16T18:31:35.606145Z",
     "start_time": "2024-07-16T18:31:35.598340Z"
    }
   },
   "source": [
    "print(df[['statement', 'processed_statement']].head())"
   ],
   "outputs": [
    {
     "name": "stdout",
     "output_type": "stream",
     "text": [
      "                                           statement  \\\n",
      "0                                         oh my gosh   \n",
      "1  trouble sleeping, confused mind, restless hear...   \n",
      "2  All wrong, back off dear, forward doubt. Stay ...   \n",
      "3  I've shifted my focus to something else but I'...   \n",
      "4  I'm restless and restless, it's been a month n...   \n",
      "\n",
      "                                 processed_statement  \n",
      "0                                            oh gosh  \n",
      "1       troubl sleep confus mind restless heart tune  \n",
      "2  wrong back dear forward doubt stay restless re...  \n",
      "3                  shift focu someth els still worri  \n",
      "4                   restless restless month boy mean  \n"
     ]
    }
   ],
   "execution_count": 17
  },
  {
   "cell_type": "code",
   "metadata": {
    "id": "KHUNxoflZTHM",
    "colab": {
     "base_uri": "https://localhost:8080/"
    },
    "outputId": "cd7ba4ff-4107-448e-b765-b42150786a86",
    "ExecuteTime": {
     "end_time": "2024-07-16T18:31:37.313799Z",
     "start_time": "2024-07-16T18:31:35.607389Z"
    }
   },
   "source": [
    "tfidf_vectorizer = TfidfVectorizer(max_features=5000)\n",
    "X = tfidf_vectorizer.fit_transform(df['processed_statement'])\n",
    "y = df['status']\n",
    "\n",
    "print(\"Shape of X:\", X.shape)\n",
    "print(\"Shape of y:\", y.shape)"
   ],
   "outputs": [
    {
     "name": "stdout",
     "output_type": "stream",
     "text": [
      "Shape of X: (52493, 5000)\n",
      "Shape of y: (52493,)\n"
     ]
    }
   ],
   "execution_count": 18
  },
  {
   "cell_type": "code",
   "metadata": {
    "id": "30_xk8xmZ93d",
    "colab": {
     "base_uri": "https://localhost:8080/"
    },
    "outputId": "2b64e415-2b78-4f21-96c3-dc80f38e14d3",
    "ExecuteTime": {
     "end_time": "2024-07-16T18:31:37.334776Z",
     "start_time": "2024-07-16T18:31:37.315313Z"
    }
   },
   "source": [
    "df.info()"
   ],
   "outputs": [
    {
     "name": "stdout",
     "output_type": "stream",
     "text": [
      "<class 'pandas.core.frame.DataFrame'>\n",
      "Index: 52493 entries, 0 to 52680\n",
      "Data columns (total 3 columns):\n",
      " #   Column               Non-Null Count  Dtype \n",
      "---  ------               --------------  ----- \n",
      " 0   statement            52493 non-null  object\n",
      " 1   status               52493 non-null  object\n",
      " 2   processed_statement  52493 non-null  object\n",
      "dtypes: object(3)\n",
      "memory usage: 1.6+ MB\n"
     ]
    }
   ],
   "execution_count": 19
  },
  {
   "cell_type": "code",
   "metadata": {
    "id": "ajK60cylaoL3",
    "ExecuteTime": {
     "end_time": "2024-07-16T18:31:37.352968Z",
     "start_time": "2024-07-16T18:31:37.336094Z"
    }
   },
   "source": [
    "X_train, X_test, y_train, y_test = train_test_split(X, y, test_size=0.2, random_state=42)"
   ],
   "outputs": [],
   "execution_count": 20
  },
  {
   "cell_type": "markdown",
   "metadata": {
    "id": "f-Ro48CAn9_y"
   },
   "source": [
    "# SVM Classifier"
   ]
  },
  {
   "cell_type": "code",
   "metadata": {
    "id": "rxwjClJmaqyP"
   },
   "source": [
    "svm_classifier = SVC(kernel='linear', random_state=42)"
   ],
   "outputs": [],
   "execution_count": null
  },
  {
   "cell_type": "code",
   "metadata": {
    "colab": {
     "base_uri": "https://localhost:8080/",
     "height": 75
    },
    "id": "v8Dsvonwm6yF",
    "outputId": "4cc07c41-99ed-4797-a7cf-9e18c183b65a"
   },
   "source": [
    "svm_classifier.fit(X_train, y_train)"
   ],
   "outputs": [],
   "execution_count": null
  },
  {
   "cell_type": "code",
   "metadata": {
    "colab": {
     "base_uri": "https://localhost:8080/"
    },
    "id": "aRx42vlznBfX",
    "outputId": "d6423b6e-5770-48e0-cf66-b3865305fea0"
   },
   "source": [
    "y_pred = svm_classifier.predict(X_test)\n",
    "print(classification_report(y_test, y_pred))"
   ],
   "outputs": [],
   "execution_count": null
  },
  {
   "cell_type": "markdown",
   "metadata": {
    "id": "lg5kQKoerEu7"
   },
   "source": [
    "# RNN"
   ]
  },
  {
   "cell_type": "code",
   "metadata": {
    "id": "uHjBIjLsrGwA",
    "ExecuteTime": {
     "end_time": "2024-07-16T18:31:41.310668Z",
     "start_time": "2024-07-16T18:31:38.736152Z"
    }
   },
   "source": [
    "# Extrai as features e os labels\n",
    "texts = df['processed_statement'].values\n",
    "labels = df['status'].values\n",
    "\n",
    "# Converte os labels para formato numérico\n",
    "label_mapping = {\n",
    "    'Normal': 0, 'Depression': 1, 'Suicidal': 2,\n",
    "    'Anxiety': 3, 'Bipolar': 4, 'Stress': 5, 'Personality disorder': 6\n",
    "}\n",
    "labels = np.array([label_mapping[label] for label in labels])\n",
    "\n",
    "# Divide os dados em conjuntos de treino e teste\n",
    "X_train, X_test, y_train, y_test = train_test_split(texts, labels, test_size=0.2, random_state=42)\n",
    "\n",
    "# Tokeniza o texto\n",
    "tokenizer = Tokenizer(num_words=10000)  # Usando as 10.000 palavras mais frequentes\n",
    "tokenizer.fit_on_texts(X_train)\n",
    "\n",
    "X_train_seq = tokenizer.texts_to_sequences(X_train)\n",
    "X_test_seq = tokenizer.texts_to_sequences(X_test)\n",
    "\n",
    "# Preenche as sequências para garantir tamanho uniforme\n",
    "max_sequence_length = 100  # Pode ser ajustado\n",
    "X_train_pad = pad_sequences(X_train_seq, maxlen=max_sequence_length)\n",
    "X_test_pad = pad_sequences(X_test_seq, maxlen=max_sequence_length)\n",
    "\n",
    "# Converte os labels para categórico\n",
    "y_train_cat = to_categorical(y_train)\n",
    "y_test_cat = to_categorical(y_test)"
   ],
   "outputs": [],
   "execution_count": 21
  },
  {
   "cell_type": "code",
   "metadata": {
    "colab": {
     "base_uri": "https://localhost:8080/",
     "height": 262
    },
    "id": "HkAbgXrvrw9d",
    "outputId": "74633deb-8f21-4aff-fffb-77383f11c53a",
    "ExecuteTime": {
     "end_time": "2024-07-16T18:33:26.262009Z",
     "start_time": "2024-07-16T18:33:26.157663Z"
    }
   },
   "source": [
    "# Define o modelo\n",
    "model = Sequential()\n",
    "model.add(Embedding(input_dim=10000, output_dim=128, input_length=max_sequence_length))\n",
    "model.add(LSTM(128, dropout=0.2, recurrent_dropout=0.2, use_cdn='auto'))\n",
    "model.add(Dense(7, activation='softmax'))  # 7 classes\n",
    "\n",
    "# Compila o modelo\n",
    "model.compile(loss='categorical_crossentropy',\n",
    "              optimizer='adam',\n",
    "              metrics=['accuracy'])\n",
    "\n",
    "# Exibe o resumo do modelo\n",
    "model.summary()"
   ],
   "outputs": [
    {
     "ename": "TypeError",
     "evalue": "('Keyword argument not understood:', 'use_cdn')",
     "output_type": "error",
     "traceback": [
      "\u001B[0;31m---------------------------------------------------------------------------\u001B[0m",
      "\u001B[0;31mTypeError\u001B[0m                                 Traceback (most recent call last)",
      "Cell \u001B[0;32mIn[27], line 4\u001B[0m\n\u001B[1;32m      2\u001B[0m model \u001B[38;5;241m=\u001B[39m Sequential()\n\u001B[1;32m      3\u001B[0m model\u001B[38;5;241m.\u001B[39madd(Embedding(input_dim\u001B[38;5;241m=\u001B[39m\u001B[38;5;241m10000\u001B[39m, output_dim\u001B[38;5;241m=\u001B[39m\u001B[38;5;241m128\u001B[39m, input_length\u001B[38;5;241m=\u001B[39mmax_sequence_length))\n\u001B[0;32m----> 4\u001B[0m model\u001B[38;5;241m.\u001B[39madd(\u001B[43mLSTM\u001B[49m\u001B[43m(\u001B[49m\u001B[38;5;241;43m128\u001B[39;49m\u001B[43m,\u001B[49m\u001B[43m \u001B[49m\u001B[43mdropout\u001B[49m\u001B[38;5;241;43m=\u001B[39;49m\u001B[38;5;241;43m0.2\u001B[39;49m\u001B[43m,\u001B[49m\u001B[43m \u001B[49m\u001B[43mrecurrent_dropout\u001B[49m\u001B[38;5;241;43m=\u001B[39;49m\u001B[38;5;241;43m0.2\u001B[39;49m\u001B[43m,\u001B[49m\u001B[43m \u001B[49m\u001B[43muse_cdn\u001B[49m\u001B[38;5;241;43m=\u001B[39;49m\u001B[38;5;124;43m'\u001B[39;49m\u001B[38;5;124;43mauto\u001B[39;49m\u001B[38;5;124;43m'\u001B[39;49m\u001B[43m)\u001B[49m)\n\u001B[1;32m      5\u001B[0m model\u001B[38;5;241m.\u001B[39madd(Dense(\u001B[38;5;241m7\u001B[39m, activation\u001B[38;5;241m=\u001B[39m\u001B[38;5;124m'\u001B[39m\u001B[38;5;124msoftmax\u001B[39m\u001B[38;5;124m'\u001B[39m))  \u001B[38;5;66;03m# 7 classes\u001B[39;00m\n\u001B[1;32m      7\u001B[0m \u001B[38;5;66;03m# Compila o modelo\u001B[39;00m\n",
      "File \u001B[0;32m~/anaconda3/envs/exAI/lib/python3.11/site-packages/keras/layers/rnn/lstm.py:561\u001B[0m, in \u001B[0;36mLSTM.__init__\u001B[0;34m(self, units, activation, recurrent_activation, use_bias, kernel_initializer, recurrent_initializer, bias_initializer, unit_forget_bias, kernel_regularizer, recurrent_regularizer, bias_regularizer, activity_regularizer, kernel_constraint, recurrent_constraint, bias_constraint, dropout, recurrent_dropout, return_sequences, return_state, go_backwards, stateful, time_major, unroll, **kwargs)\u001B[0m\n\u001B[1;32m    538\u001B[0m     cell_kwargs \u001B[38;5;241m=\u001B[39m {}\n\u001B[1;32m    539\u001B[0m cell \u001B[38;5;241m=\u001B[39m LSTMCell(\n\u001B[1;32m    540\u001B[0m     units,\n\u001B[1;32m    541\u001B[0m     activation\u001B[38;5;241m=\u001B[39mactivation,\n\u001B[0;32m   (...)\u001B[0m\n\u001B[1;32m    559\u001B[0m     \u001B[38;5;241m*\u001B[39m\u001B[38;5;241m*\u001B[39mcell_kwargs,\n\u001B[1;32m    560\u001B[0m )\n\u001B[0;32m--> 561\u001B[0m \u001B[38;5;28;43msuper\u001B[39;49m\u001B[43m(\u001B[49m\u001B[43m)\u001B[49m\u001B[38;5;241;43m.\u001B[39;49m\u001B[38;5;21;43m__init__\u001B[39;49m\u001B[43m(\u001B[49m\n\u001B[1;32m    562\u001B[0m \u001B[43m    \u001B[49m\u001B[43mcell\u001B[49m\u001B[43m,\u001B[49m\n\u001B[1;32m    563\u001B[0m \u001B[43m    \u001B[49m\u001B[43mreturn_sequences\u001B[49m\u001B[38;5;241;43m=\u001B[39;49m\u001B[43mreturn_sequences\u001B[49m\u001B[43m,\u001B[49m\n\u001B[1;32m    564\u001B[0m \u001B[43m    \u001B[49m\u001B[43mreturn_state\u001B[49m\u001B[38;5;241;43m=\u001B[39;49m\u001B[43mreturn_state\u001B[49m\u001B[43m,\u001B[49m\n\u001B[1;32m    565\u001B[0m \u001B[43m    \u001B[49m\u001B[43mgo_backwards\u001B[49m\u001B[38;5;241;43m=\u001B[39;49m\u001B[43mgo_backwards\u001B[49m\u001B[43m,\u001B[49m\n\u001B[1;32m    566\u001B[0m \u001B[43m    \u001B[49m\u001B[43mstateful\u001B[49m\u001B[38;5;241;43m=\u001B[39;49m\u001B[43mstateful\u001B[49m\u001B[43m,\u001B[49m\n\u001B[1;32m    567\u001B[0m \u001B[43m    \u001B[49m\u001B[43mtime_major\u001B[49m\u001B[38;5;241;43m=\u001B[39;49m\u001B[43mtime_major\u001B[49m\u001B[43m,\u001B[49m\n\u001B[1;32m    568\u001B[0m \u001B[43m    \u001B[49m\u001B[43munroll\u001B[49m\u001B[38;5;241;43m=\u001B[39;49m\u001B[43munroll\u001B[49m\u001B[43m,\u001B[49m\n\u001B[1;32m    569\u001B[0m \u001B[43m    \u001B[49m\u001B[38;5;241;43m*\u001B[39;49m\u001B[38;5;241;43m*\u001B[39;49m\u001B[43mkwargs\u001B[49m\u001B[43m,\u001B[49m\n\u001B[1;32m    570\u001B[0m \u001B[43m\u001B[49m\u001B[43m)\u001B[49m\n\u001B[1;32m    571\u001B[0m \u001B[38;5;28mself\u001B[39m\u001B[38;5;241m.\u001B[39mactivity_regularizer \u001B[38;5;241m=\u001B[39m regularizers\u001B[38;5;241m.\u001B[39mget(activity_regularizer)\n\u001B[1;32m    572\u001B[0m \u001B[38;5;28mself\u001B[39m\u001B[38;5;241m.\u001B[39minput_spec \u001B[38;5;241m=\u001B[39m [InputSpec(ndim\u001B[38;5;241m=\u001B[39m\u001B[38;5;241m3\u001B[39m)]\n",
      "File \u001B[0;32m~/anaconda3/envs/exAI/lib/python3.11/site-packages/keras/layers/rnn/dropout_rnn_cell_mixin.py:43\u001B[0m, in \u001B[0;36mDropoutRNNCellMixin.__init__\u001B[0;34m(self, *args, **kwargs)\u001B[0m\n\u001B[1;32m     41\u001B[0m \u001B[38;5;28;01mdef\u001B[39;00m \u001B[38;5;21m__init__\u001B[39m(\u001B[38;5;28mself\u001B[39m, \u001B[38;5;241m*\u001B[39margs, \u001B[38;5;241m*\u001B[39m\u001B[38;5;241m*\u001B[39mkwargs):\n\u001B[1;32m     42\u001B[0m     \u001B[38;5;28mself\u001B[39m\u001B[38;5;241m.\u001B[39m_create_non_trackable_mask_cache()\n\u001B[0;32m---> 43\u001B[0m     \u001B[38;5;28;43msuper\u001B[39;49m\u001B[43m(\u001B[49m\u001B[43m)\u001B[49m\u001B[38;5;241;43m.\u001B[39;49m\u001B[38;5;21;43m__init__\u001B[39;49m\u001B[43m(\u001B[49m\u001B[38;5;241;43m*\u001B[39;49m\u001B[43margs\u001B[49m\u001B[43m,\u001B[49m\u001B[43m \u001B[49m\u001B[38;5;241;43m*\u001B[39;49m\u001B[38;5;241;43m*\u001B[39;49m\u001B[43mkwargs\u001B[49m\u001B[43m)\u001B[49m\n",
      "File \u001B[0;32m~/anaconda3/envs/exAI/lib/python3.11/site-packages/keras/layers/rnn/base_rnn.py:271\u001B[0m, in \u001B[0;36mRNN.__init__\u001B[0;34m(self, cell, return_sequences, return_state, go_backwards, stateful, unroll, time_major, **kwargs)\u001B[0m\n\u001B[1;32m    265\u001B[0m     input_shape \u001B[38;5;241m=\u001B[39m (\n\u001B[1;32m    266\u001B[0m         kwargs\u001B[38;5;241m.\u001B[39mpop(\u001B[38;5;124m\"\u001B[39m\u001B[38;5;124minput_length\u001B[39m\u001B[38;5;124m\"\u001B[39m, \u001B[38;5;28;01mNone\u001B[39;00m),\n\u001B[1;32m    267\u001B[0m         kwargs\u001B[38;5;241m.\u001B[39mpop(\u001B[38;5;124m\"\u001B[39m\u001B[38;5;124minput_dim\u001B[39m\u001B[38;5;124m\"\u001B[39m, \u001B[38;5;28;01mNone\u001B[39;00m),\n\u001B[1;32m    268\u001B[0m     )\n\u001B[1;32m    269\u001B[0m     kwargs[\u001B[38;5;124m\"\u001B[39m\u001B[38;5;124minput_shape\u001B[39m\u001B[38;5;124m\"\u001B[39m] \u001B[38;5;241m=\u001B[39m input_shape\n\u001B[0;32m--> 271\u001B[0m \u001B[38;5;28;43msuper\u001B[39;49m\u001B[43m(\u001B[49m\u001B[43m)\u001B[49m\u001B[38;5;241;43m.\u001B[39;49m\u001B[38;5;21;43m__init__\u001B[39;49m\u001B[43m(\u001B[49m\u001B[38;5;241;43m*\u001B[39;49m\u001B[38;5;241;43m*\u001B[39;49m\u001B[43mkwargs\u001B[49m\u001B[43m)\u001B[49m\n\u001B[1;32m    272\u001B[0m \u001B[38;5;28mself\u001B[39m\u001B[38;5;241m.\u001B[39mcell \u001B[38;5;241m=\u001B[39m cell\n\u001B[1;32m    273\u001B[0m \u001B[38;5;28mself\u001B[39m\u001B[38;5;241m.\u001B[39mreturn_sequences \u001B[38;5;241m=\u001B[39m return_sequences\n",
      "File \u001B[0;32m~/anaconda3/envs/exAI/lib/python3.11/site-packages/tensorflow/python/trackable/base.py:205\u001B[0m, in \u001B[0;36mno_automatic_dependency_tracking.<locals>._method_wrapper\u001B[0;34m(self, *args, **kwargs)\u001B[0m\n\u001B[1;32m    203\u001B[0m \u001B[38;5;28mself\u001B[39m\u001B[38;5;241m.\u001B[39m_self_setattr_tracking \u001B[38;5;241m=\u001B[39m \u001B[38;5;28;01mFalse\u001B[39;00m  \u001B[38;5;66;03m# pylint: disable=protected-access\u001B[39;00m\n\u001B[1;32m    204\u001B[0m \u001B[38;5;28;01mtry\u001B[39;00m:\n\u001B[0;32m--> 205\u001B[0m   result \u001B[38;5;241m=\u001B[39m \u001B[43mmethod\u001B[49m\u001B[43m(\u001B[49m\u001B[38;5;28;43mself\u001B[39;49m\u001B[43m,\u001B[49m\u001B[43m \u001B[49m\u001B[38;5;241;43m*\u001B[39;49m\u001B[43margs\u001B[49m\u001B[43m,\u001B[49m\u001B[43m \u001B[49m\u001B[38;5;241;43m*\u001B[39;49m\u001B[38;5;241;43m*\u001B[39;49m\u001B[43mkwargs\u001B[49m\u001B[43m)\u001B[49m\n\u001B[1;32m    206\u001B[0m \u001B[38;5;28;01mfinally\u001B[39;00m:\n\u001B[1;32m    207\u001B[0m   \u001B[38;5;28mself\u001B[39m\u001B[38;5;241m.\u001B[39m_self_setattr_tracking \u001B[38;5;241m=\u001B[39m previous_value  \u001B[38;5;66;03m# pylint: disable=protected-access\u001B[39;00m\n",
      "File \u001B[0;32m~/anaconda3/envs/exAI/lib/python3.11/site-packages/keras/engine/base_layer.py:3790\u001B[0m, in \u001B[0;36mBaseRandomLayer.__init__\u001B[0;34m(self, seed, force_generator, rng_type, **kwargs)\u001B[0m\n\u001B[1;32m   3762\u001B[0m \u001B[38;5;129m@tf\u001B[39m\u001B[38;5;241m.\u001B[39m__internal__\u001B[38;5;241m.\u001B[39mtracking\u001B[38;5;241m.\u001B[39mno_automatic_dependency_tracking\n\u001B[1;32m   3763\u001B[0m \u001B[38;5;28;01mdef\u001B[39;00m \u001B[38;5;21m__init__\u001B[39m(\n\u001B[1;32m   3764\u001B[0m     \u001B[38;5;28mself\u001B[39m, seed\u001B[38;5;241m=\u001B[39m\u001B[38;5;28;01mNone\u001B[39;00m, force_generator\u001B[38;5;241m=\u001B[39m\u001B[38;5;28;01mFalse\u001B[39;00m, rng_type\u001B[38;5;241m=\u001B[39m\u001B[38;5;28;01mNone\u001B[39;00m, \u001B[38;5;241m*\u001B[39m\u001B[38;5;241m*\u001B[39mkwargs\n\u001B[1;32m   3765\u001B[0m ):\n\u001B[1;32m   3766\u001B[0m \u001B[38;5;250m    \u001B[39m\u001B[38;5;124;03m\"\"\"Initialize the BaseRandomLayer.\u001B[39;00m\n\u001B[1;32m   3767\u001B[0m \n\u001B[1;32m   3768\u001B[0m \u001B[38;5;124;03m    Note that the constructor is annotated with\u001B[39;00m\n\u001B[0;32m   (...)\u001B[0m\n\u001B[1;32m   3788\u001B[0m \u001B[38;5;124;03m        *class\u001B[39;00m\n\u001B[1;32m   3789\u001B[0m \u001B[38;5;124;03m    \"\"\"\u001B[39;00m\n\u001B[0;32m-> 3790\u001B[0m     \u001B[38;5;28;43msuper\u001B[39;49m\u001B[43m(\u001B[49m\u001B[43m)\u001B[49m\u001B[38;5;241;43m.\u001B[39;49m\u001B[38;5;21;43m__init__\u001B[39;49m\u001B[43m(\u001B[49m\u001B[38;5;241;43m*\u001B[39;49m\u001B[38;5;241;43m*\u001B[39;49m\u001B[43mkwargs\u001B[49m\u001B[43m)\u001B[49m\n\u001B[1;32m   3791\u001B[0m     \u001B[38;5;28mself\u001B[39m\u001B[38;5;241m.\u001B[39m_random_generator \u001B[38;5;241m=\u001B[39m backend\u001B[38;5;241m.\u001B[39mRandomGenerator(\n\u001B[1;32m   3792\u001B[0m         seed, force_generator\u001B[38;5;241m=\u001B[39mforce_generator, rng_type\u001B[38;5;241m=\u001B[39mrng_type\n\u001B[1;32m   3793\u001B[0m     )\n",
      "File \u001B[0;32m~/anaconda3/envs/exAI/lib/python3.11/site-packages/tensorflow/python/trackable/base.py:205\u001B[0m, in \u001B[0;36mno_automatic_dependency_tracking.<locals>._method_wrapper\u001B[0;34m(self, *args, **kwargs)\u001B[0m\n\u001B[1;32m    203\u001B[0m \u001B[38;5;28mself\u001B[39m\u001B[38;5;241m.\u001B[39m_self_setattr_tracking \u001B[38;5;241m=\u001B[39m \u001B[38;5;28;01mFalse\u001B[39;00m  \u001B[38;5;66;03m# pylint: disable=protected-access\u001B[39;00m\n\u001B[1;32m    204\u001B[0m \u001B[38;5;28;01mtry\u001B[39;00m:\n\u001B[0;32m--> 205\u001B[0m   result \u001B[38;5;241m=\u001B[39m \u001B[43mmethod\u001B[49m\u001B[43m(\u001B[49m\u001B[38;5;28;43mself\u001B[39;49m\u001B[43m,\u001B[49m\u001B[43m \u001B[49m\u001B[38;5;241;43m*\u001B[39;49m\u001B[43margs\u001B[49m\u001B[43m,\u001B[49m\u001B[43m \u001B[49m\u001B[38;5;241;43m*\u001B[39;49m\u001B[38;5;241;43m*\u001B[39;49m\u001B[43mkwargs\u001B[49m\u001B[43m)\u001B[49m\n\u001B[1;32m    206\u001B[0m \u001B[38;5;28;01mfinally\u001B[39;00m:\n\u001B[1;32m    207\u001B[0m   \u001B[38;5;28mself\u001B[39m\u001B[38;5;241m.\u001B[39m_self_setattr_tracking \u001B[38;5;241m=\u001B[39m previous_value  \u001B[38;5;66;03m# pylint: disable=protected-access\u001B[39;00m\n",
      "File \u001B[0;32m~/anaconda3/envs/exAI/lib/python3.11/site-packages/keras/engine/base_layer.py:341\u001B[0m, in \u001B[0;36mLayer.__init__\u001B[0;34m(self, trainable, name, dtype, dynamic, **kwargs)\u001B[0m\n\u001B[1;32m    330\u001B[0m allowed_kwargs \u001B[38;5;241m=\u001B[39m {\n\u001B[1;32m    331\u001B[0m     \u001B[38;5;124m\"\u001B[39m\u001B[38;5;124minput_dim\u001B[39m\u001B[38;5;124m\"\u001B[39m,\n\u001B[1;32m    332\u001B[0m     \u001B[38;5;124m\"\u001B[39m\u001B[38;5;124minput_shape\u001B[39m\u001B[38;5;124m\"\u001B[39m,\n\u001B[0;32m   (...)\u001B[0m\n\u001B[1;32m    338\u001B[0m     \u001B[38;5;124m\"\u001B[39m\u001B[38;5;124mimplementation\u001B[39m\u001B[38;5;124m\"\u001B[39m,\n\u001B[1;32m    339\u001B[0m }\n\u001B[1;32m    340\u001B[0m \u001B[38;5;66;03m# Validate optional keyword arguments.\u001B[39;00m\n\u001B[0;32m--> 341\u001B[0m \u001B[43mgeneric_utils\u001B[49m\u001B[38;5;241;43m.\u001B[39;49m\u001B[43mvalidate_kwargs\u001B[49m\u001B[43m(\u001B[49m\u001B[43mkwargs\u001B[49m\u001B[43m,\u001B[49m\u001B[43m \u001B[49m\u001B[43mallowed_kwargs\u001B[49m\u001B[43m)\u001B[49m\n\u001B[1;32m    343\u001B[0m \u001B[38;5;66;03m# Mutable properties\u001B[39;00m\n\u001B[1;32m    344\u001B[0m \u001B[38;5;66;03m# Indicates whether the layer's weights are updated during training\u001B[39;00m\n\u001B[1;32m    345\u001B[0m \u001B[38;5;66;03m# and whether the layer's updates are run during training.\u001B[39;00m\n\u001B[1;32m    346\u001B[0m \u001B[38;5;28;01mif\u001B[39;00m \u001B[38;5;129;01mnot\u001B[39;00m (\n\u001B[1;32m    347\u001B[0m     \u001B[38;5;28misinstance\u001B[39m(trainable, \u001B[38;5;28mbool\u001B[39m)\n\u001B[1;32m    348\u001B[0m     \u001B[38;5;129;01mor\u001B[39;00m (\n\u001B[0;32m   (...)\u001B[0m\n\u001B[1;32m    351\u001B[0m     )\n\u001B[1;32m    352\u001B[0m ):\n",
      "File \u001B[0;32m~/anaconda3/envs/exAI/lib/python3.11/site-packages/keras/utils/generic_utils.py:514\u001B[0m, in \u001B[0;36mvalidate_kwargs\u001B[0;34m(kwargs, allowed_kwargs, error_message)\u001B[0m\n\u001B[1;32m    512\u001B[0m \u001B[38;5;28;01mfor\u001B[39;00m kwarg \u001B[38;5;129;01min\u001B[39;00m kwargs:\n\u001B[1;32m    513\u001B[0m     \u001B[38;5;28;01mif\u001B[39;00m kwarg \u001B[38;5;129;01mnot\u001B[39;00m \u001B[38;5;129;01min\u001B[39;00m allowed_kwargs:\n\u001B[0;32m--> 514\u001B[0m         \u001B[38;5;28;01mraise\u001B[39;00m \u001B[38;5;167;01mTypeError\u001B[39;00m(error_message, kwarg)\n",
      "\u001B[0;31mTypeError\u001B[0m: ('Keyword argument not understood:', 'use_cdn')"
     ]
    }
   ],
   "execution_count": 27
  },
  {
   "cell_type": "code",
   "source": [
    "# Define the ModelCheckpoint callback\n",
    "checkpoint_callback = ModelCheckpoint('best_model_weights.keras',\n",
    "                                      monitor='val_accuracy',\n",
    "                                      save_best_only=True,\n",
    "                                      mode='max',  # or 'max' depending on the metric\n",
    "                                      verbose=1)\n"
   ],
   "metadata": {
    "id": "Gi3LqXaiBXyQ",
    "ExecuteTime": {
     "end_time": "2024-07-16T18:32:22.047824Z",
     "start_time": "2024-07-16T18:32:22.041819Z"
    }
   },
   "outputs": [],
   "execution_count": 25
  },
  {
   "cell_type": "code",
   "metadata": {
    "colab": {
     "base_uri": "https://localhost:8080/"
    },
    "id": "9piaFX67r7xL",
    "outputId": "98613f0b-88dd-4fd3-aa8d-a786753cc137",
    "ExecuteTime": {
     "end_time": "2024-07-16T18:32:50.286105Z",
     "start_time": "2024-07-16T18:32:25.012647Z"
    }
   },
   "source": [
    "# Example training code with ModelCheckpoint callback\n",
    "history = model.fit(X_train_pad, y_train_cat,\n",
    "                    batch_size=32,\n",
    "                    epochs=6,\n",
    "                    validation_data=(X_test_pad, y_test_cat),\n",
    "                    callbacks=[checkpoint_callback])\n"
   ],
   "outputs": [
    {
     "name": "stdout",
     "output_type": "stream",
     "text": [
      "Epoch 1/6\n",
      "  35/1313 [..............................] - ETA: 13:01 - loss: 1.5981 - accuracy: 0.4170"
     ]
    },
    {
     "ename": "KeyboardInterrupt",
     "evalue": "",
     "output_type": "error",
     "traceback": [
      "\u001B[0;31m---------------------------------------------------------------------------\u001B[0m",
      "\u001B[0;31mKeyboardInterrupt\u001B[0m                         Traceback (most recent call last)",
      "Cell \u001B[0;32mIn[26], line 2\u001B[0m\n\u001B[1;32m      1\u001B[0m \u001B[38;5;66;03m# Example training code with ModelCheckpoint callback\u001B[39;00m\n\u001B[0;32m----> 2\u001B[0m history \u001B[38;5;241m=\u001B[39m \u001B[43mmodel\u001B[49m\u001B[38;5;241;43m.\u001B[39;49m\u001B[43mfit\u001B[49m\u001B[43m(\u001B[49m\u001B[43mX_train_pad\u001B[49m\u001B[43m,\u001B[49m\u001B[43m \u001B[49m\u001B[43my_train_cat\u001B[49m\u001B[43m,\u001B[49m\n\u001B[1;32m      3\u001B[0m \u001B[43m                    \u001B[49m\u001B[43mbatch_size\u001B[49m\u001B[38;5;241;43m=\u001B[39;49m\u001B[38;5;241;43m32\u001B[39;49m\u001B[43m,\u001B[49m\n\u001B[1;32m      4\u001B[0m \u001B[43m                    \u001B[49m\u001B[43mepochs\u001B[49m\u001B[38;5;241;43m=\u001B[39;49m\u001B[38;5;241;43m6\u001B[39;49m\u001B[43m,\u001B[49m\n\u001B[1;32m      5\u001B[0m \u001B[43m                    \u001B[49m\u001B[43mvalidation_data\u001B[49m\u001B[38;5;241;43m=\u001B[39;49m\u001B[43m(\u001B[49m\u001B[43mX_test_pad\u001B[49m\u001B[43m,\u001B[49m\u001B[43m \u001B[49m\u001B[43my_test_cat\u001B[49m\u001B[43m)\u001B[49m\u001B[43m,\u001B[49m\n\u001B[1;32m      6\u001B[0m \u001B[43m                    \u001B[49m\u001B[43mcallbacks\u001B[49m\u001B[38;5;241;43m=\u001B[39;49m\u001B[43m[\u001B[49m\u001B[43mcheckpoint_callback\u001B[49m\u001B[43m]\u001B[49m\u001B[43m)\u001B[49m\n",
      "File \u001B[0;32m~/anaconda3/envs/exAI/lib/python3.11/site-packages/keras/utils/traceback_utils.py:65\u001B[0m, in \u001B[0;36mfilter_traceback.<locals>.error_handler\u001B[0;34m(*args, **kwargs)\u001B[0m\n\u001B[1;32m     63\u001B[0m filtered_tb \u001B[38;5;241m=\u001B[39m \u001B[38;5;28;01mNone\u001B[39;00m\n\u001B[1;32m     64\u001B[0m \u001B[38;5;28;01mtry\u001B[39;00m:\n\u001B[0;32m---> 65\u001B[0m     \u001B[38;5;28;01mreturn\u001B[39;00m \u001B[43mfn\u001B[49m\u001B[43m(\u001B[49m\u001B[38;5;241;43m*\u001B[39;49m\u001B[43margs\u001B[49m\u001B[43m,\u001B[49m\u001B[43m \u001B[49m\u001B[38;5;241;43m*\u001B[39;49m\u001B[38;5;241;43m*\u001B[39;49m\u001B[43mkwargs\u001B[49m\u001B[43m)\u001B[49m\n\u001B[1;32m     66\u001B[0m \u001B[38;5;28;01mexcept\u001B[39;00m \u001B[38;5;167;01mException\u001B[39;00m \u001B[38;5;28;01mas\u001B[39;00m e:\n\u001B[1;32m     67\u001B[0m     filtered_tb \u001B[38;5;241m=\u001B[39m _process_traceback_frames(e\u001B[38;5;241m.\u001B[39m__traceback__)\n",
      "File \u001B[0;32m~/anaconda3/envs/exAI/lib/python3.11/site-packages/keras/engine/training.py:1685\u001B[0m, in \u001B[0;36mModel.fit\u001B[0;34m(self, x, y, batch_size, epochs, verbose, callbacks, validation_split, validation_data, shuffle, class_weight, sample_weight, initial_epoch, steps_per_epoch, validation_steps, validation_batch_size, validation_freq, max_queue_size, workers, use_multiprocessing)\u001B[0m\n\u001B[1;32m   1677\u001B[0m \u001B[38;5;28;01mwith\u001B[39;00m tf\u001B[38;5;241m.\u001B[39mprofiler\u001B[38;5;241m.\u001B[39mexperimental\u001B[38;5;241m.\u001B[39mTrace(\n\u001B[1;32m   1678\u001B[0m     \u001B[38;5;124m\"\u001B[39m\u001B[38;5;124mtrain\u001B[39m\u001B[38;5;124m\"\u001B[39m,\n\u001B[1;32m   1679\u001B[0m     epoch_num\u001B[38;5;241m=\u001B[39mepoch,\n\u001B[0;32m   (...)\u001B[0m\n\u001B[1;32m   1682\u001B[0m     _r\u001B[38;5;241m=\u001B[39m\u001B[38;5;241m1\u001B[39m,\n\u001B[1;32m   1683\u001B[0m ):\n\u001B[1;32m   1684\u001B[0m     callbacks\u001B[38;5;241m.\u001B[39mon_train_batch_begin(step)\n\u001B[0;32m-> 1685\u001B[0m     tmp_logs \u001B[38;5;241m=\u001B[39m \u001B[38;5;28;43mself\u001B[39;49m\u001B[38;5;241;43m.\u001B[39;49m\u001B[43mtrain_function\u001B[49m\u001B[43m(\u001B[49m\u001B[43miterator\u001B[49m\u001B[43m)\u001B[49m\n\u001B[1;32m   1686\u001B[0m     \u001B[38;5;28;01mif\u001B[39;00m data_handler\u001B[38;5;241m.\u001B[39mshould_sync:\n\u001B[1;32m   1687\u001B[0m         context\u001B[38;5;241m.\u001B[39masync_wait()\n",
      "File \u001B[0;32m~/anaconda3/envs/exAI/lib/python3.11/site-packages/tensorflow/python/util/traceback_utils.py:150\u001B[0m, in \u001B[0;36mfilter_traceback.<locals>.error_handler\u001B[0;34m(*args, **kwargs)\u001B[0m\n\u001B[1;32m    148\u001B[0m filtered_tb \u001B[38;5;241m=\u001B[39m \u001B[38;5;28;01mNone\u001B[39;00m\n\u001B[1;32m    149\u001B[0m \u001B[38;5;28;01mtry\u001B[39;00m:\n\u001B[0;32m--> 150\u001B[0m   \u001B[38;5;28;01mreturn\u001B[39;00m \u001B[43mfn\u001B[49m\u001B[43m(\u001B[49m\u001B[38;5;241;43m*\u001B[39;49m\u001B[43margs\u001B[49m\u001B[43m,\u001B[49m\u001B[43m \u001B[49m\u001B[38;5;241;43m*\u001B[39;49m\u001B[38;5;241;43m*\u001B[39;49m\u001B[43mkwargs\u001B[49m\u001B[43m)\u001B[49m\n\u001B[1;32m    151\u001B[0m \u001B[38;5;28;01mexcept\u001B[39;00m \u001B[38;5;167;01mException\u001B[39;00m \u001B[38;5;28;01mas\u001B[39;00m e:\n\u001B[1;32m    152\u001B[0m   filtered_tb \u001B[38;5;241m=\u001B[39m _process_traceback_frames(e\u001B[38;5;241m.\u001B[39m__traceback__)\n",
      "File \u001B[0;32m~/anaconda3/envs/exAI/lib/python3.11/site-packages/tensorflow/python/eager/polymorphic_function/polymorphic_function.py:894\u001B[0m, in \u001B[0;36mFunction.__call__\u001B[0;34m(self, *args, **kwds)\u001B[0m\n\u001B[1;32m    891\u001B[0m compiler \u001B[38;5;241m=\u001B[39m \u001B[38;5;124m\"\u001B[39m\u001B[38;5;124mxla\u001B[39m\u001B[38;5;124m\"\u001B[39m \u001B[38;5;28;01mif\u001B[39;00m \u001B[38;5;28mself\u001B[39m\u001B[38;5;241m.\u001B[39m_jit_compile \u001B[38;5;28;01melse\u001B[39;00m \u001B[38;5;124m\"\u001B[39m\u001B[38;5;124mnonXla\u001B[39m\u001B[38;5;124m\"\u001B[39m\n\u001B[1;32m    893\u001B[0m \u001B[38;5;28;01mwith\u001B[39;00m OptionalXlaContext(\u001B[38;5;28mself\u001B[39m\u001B[38;5;241m.\u001B[39m_jit_compile):\n\u001B[0;32m--> 894\u001B[0m   result \u001B[38;5;241m=\u001B[39m \u001B[38;5;28;43mself\u001B[39;49m\u001B[38;5;241;43m.\u001B[39;49m\u001B[43m_call\u001B[49m\u001B[43m(\u001B[49m\u001B[38;5;241;43m*\u001B[39;49m\u001B[43margs\u001B[49m\u001B[43m,\u001B[49m\u001B[43m \u001B[49m\u001B[38;5;241;43m*\u001B[39;49m\u001B[38;5;241;43m*\u001B[39;49m\u001B[43mkwds\u001B[49m\u001B[43m)\u001B[49m\n\u001B[1;32m    896\u001B[0m new_tracing_count \u001B[38;5;241m=\u001B[39m \u001B[38;5;28mself\u001B[39m\u001B[38;5;241m.\u001B[39mexperimental_get_tracing_count()\n\u001B[1;32m    897\u001B[0m without_tracing \u001B[38;5;241m=\u001B[39m (tracing_count \u001B[38;5;241m==\u001B[39m new_tracing_count)\n",
      "File \u001B[0;32m~/anaconda3/envs/exAI/lib/python3.11/site-packages/tensorflow/python/eager/polymorphic_function/polymorphic_function.py:926\u001B[0m, in \u001B[0;36mFunction._call\u001B[0;34m(self, *args, **kwds)\u001B[0m\n\u001B[1;32m    923\u001B[0m   \u001B[38;5;28mself\u001B[39m\u001B[38;5;241m.\u001B[39m_lock\u001B[38;5;241m.\u001B[39mrelease()\n\u001B[1;32m    924\u001B[0m   \u001B[38;5;66;03m# In this case we have created variables on the first call, so we run the\u001B[39;00m\n\u001B[1;32m    925\u001B[0m   \u001B[38;5;66;03m# defunned version which is guaranteed to never create variables.\u001B[39;00m\n\u001B[0;32m--> 926\u001B[0m   \u001B[38;5;28;01mreturn\u001B[39;00m \u001B[38;5;28;43mself\u001B[39;49m\u001B[38;5;241;43m.\u001B[39;49m\u001B[43m_no_variable_creation_fn\u001B[49m\u001B[43m(\u001B[49m\u001B[38;5;241;43m*\u001B[39;49m\u001B[43margs\u001B[49m\u001B[43m,\u001B[49m\u001B[43m \u001B[49m\u001B[38;5;241;43m*\u001B[39;49m\u001B[38;5;241;43m*\u001B[39;49m\u001B[43mkwds\u001B[49m\u001B[43m)\u001B[49m  \u001B[38;5;66;03m# pylint: disable=not-callable\u001B[39;00m\n\u001B[1;32m    927\u001B[0m \u001B[38;5;28;01melif\u001B[39;00m \u001B[38;5;28mself\u001B[39m\u001B[38;5;241m.\u001B[39m_variable_creation_fn \u001B[38;5;129;01mis\u001B[39;00m \u001B[38;5;129;01mnot\u001B[39;00m \u001B[38;5;28;01mNone\u001B[39;00m:\n\u001B[1;32m    928\u001B[0m   \u001B[38;5;66;03m# Release the lock early so that multiple threads can perform the call\u001B[39;00m\n\u001B[1;32m    929\u001B[0m   \u001B[38;5;66;03m# in parallel.\u001B[39;00m\n\u001B[1;32m    930\u001B[0m   \u001B[38;5;28mself\u001B[39m\u001B[38;5;241m.\u001B[39m_lock\u001B[38;5;241m.\u001B[39mrelease()\n",
      "File \u001B[0;32m~/anaconda3/envs/exAI/lib/python3.11/site-packages/tensorflow/python/eager/polymorphic_function/tracing_compiler.py:143\u001B[0m, in \u001B[0;36mTracingCompiler.__call__\u001B[0;34m(self, *args, **kwargs)\u001B[0m\n\u001B[1;32m    140\u001B[0m \u001B[38;5;28;01mwith\u001B[39;00m \u001B[38;5;28mself\u001B[39m\u001B[38;5;241m.\u001B[39m_lock:\n\u001B[1;32m    141\u001B[0m   (concrete_function,\n\u001B[1;32m    142\u001B[0m    filtered_flat_args) \u001B[38;5;241m=\u001B[39m \u001B[38;5;28mself\u001B[39m\u001B[38;5;241m.\u001B[39m_maybe_define_function(args, kwargs)\n\u001B[0;32m--> 143\u001B[0m \u001B[38;5;28;01mreturn\u001B[39;00m \u001B[43mconcrete_function\u001B[49m\u001B[38;5;241;43m.\u001B[39;49m\u001B[43m_call_flat\u001B[49m\u001B[43m(\u001B[49m\n\u001B[1;32m    144\u001B[0m \u001B[43m    \u001B[49m\u001B[43mfiltered_flat_args\u001B[49m\u001B[43m,\u001B[49m\u001B[43m \u001B[49m\u001B[43mcaptured_inputs\u001B[49m\u001B[38;5;241;43m=\u001B[39;49m\u001B[43mconcrete_function\u001B[49m\u001B[38;5;241;43m.\u001B[39;49m\u001B[43mcaptured_inputs\u001B[49m\u001B[43m)\u001B[49m\n",
      "File \u001B[0;32m~/anaconda3/envs/exAI/lib/python3.11/site-packages/tensorflow/python/eager/polymorphic_function/monomorphic_function.py:1757\u001B[0m, in \u001B[0;36mConcreteFunction._call_flat\u001B[0;34m(self, args, captured_inputs, cancellation_manager)\u001B[0m\n\u001B[1;32m   1753\u001B[0m possible_gradient_type \u001B[38;5;241m=\u001B[39m gradients_util\u001B[38;5;241m.\u001B[39mPossibleTapeGradientTypes(args)\n\u001B[1;32m   1754\u001B[0m \u001B[38;5;28;01mif\u001B[39;00m (possible_gradient_type \u001B[38;5;241m==\u001B[39m gradients_util\u001B[38;5;241m.\u001B[39mPOSSIBLE_GRADIENT_TYPES_NONE\n\u001B[1;32m   1755\u001B[0m     \u001B[38;5;129;01mand\u001B[39;00m executing_eagerly):\n\u001B[1;32m   1756\u001B[0m   \u001B[38;5;66;03m# No tape is watching; skip to running the function.\u001B[39;00m\n\u001B[0;32m-> 1757\u001B[0m   \u001B[38;5;28;01mreturn\u001B[39;00m \u001B[38;5;28mself\u001B[39m\u001B[38;5;241m.\u001B[39m_build_call_outputs(\u001B[38;5;28;43mself\u001B[39;49m\u001B[38;5;241;43m.\u001B[39;49m\u001B[43m_inference_function\u001B[49m\u001B[38;5;241;43m.\u001B[39;49m\u001B[43mcall\u001B[49m\u001B[43m(\u001B[49m\n\u001B[1;32m   1758\u001B[0m \u001B[43m      \u001B[49m\u001B[43mctx\u001B[49m\u001B[43m,\u001B[49m\u001B[43m \u001B[49m\u001B[43margs\u001B[49m\u001B[43m,\u001B[49m\u001B[43m \u001B[49m\u001B[43mcancellation_manager\u001B[49m\u001B[38;5;241;43m=\u001B[39;49m\u001B[43mcancellation_manager\u001B[49m\u001B[43m)\u001B[49m)\n\u001B[1;32m   1759\u001B[0m forward_backward \u001B[38;5;241m=\u001B[39m \u001B[38;5;28mself\u001B[39m\u001B[38;5;241m.\u001B[39m_select_forward_and_backward_functions(\n\u001B[1;32m   1760\u001B[0m     args,\n\u001B[1;32m   1761\u001B[0m     possible_gradient_type,\n\u001B[1;32m   1762\u001B[0m     executing_eagerly)\n\u001B[1;32m   1763\u001B[0m forward_function, args_with_tangents \u001B[38;5;241m=\u001B[39m forward_backward\u001B[38;5;241m.\u001B[39mforward()\n",
      "File \u001B[0;32m~/anaconda3/envs/exAI/lib/python3.11/site-packages/tensorflow/python/eager/polymorphic_function/monomorphic_function.py:381\u001B[0m, in \u001B[0;36m_EagerDefinedFunction.call\u001B[0;34m(self, ctx, args, cancellation_manager)\u001B[0m\n\u001B[1;32m    379\u001B[0m \u001B[38;5;28;01mwith\u001B[39;00m _InterpolateFunctionError(\u001B[38;5;28mself\u001B[39m):\n\u001B[1;32m    380\u001B[0m   \u001B[38;5;28;01mif\u001B[39;00m cancellation_manager \u001B[38;5;129;01mis\u001B[39;00m \u001B[38;5;28;01mNone\u001B[39;00m:\n\u001B[0;32m--> 381\u001B[0m     outputs \u001B[38;5;241m=\u001B[39m \u001B[43mexecute\u001B[49m\u001B[38;5;241;43m.\u001B[39;49m\u001B[43mexecute\u001B[49m\u001B[43m(\u001B[49m\n\u001B[1;32m    382\u001B[0m \u001B[43m        \u001B[49m\u001B[38;5;28;43mstr\u001B[39;49m\u001B[43m(\u001B[49m\u001B[38;5;28;43mself\u001B[39;49m\u001B[38;5;241;43m.\u001B[39;49m\u001B[43msignature\u001B[49m\u001B[38;5;241;43m.\u001B[39;49m\u001B[43mname\u001B[49m\u001B[43m)\u001B[49m\u001B[43m,\u001B[49m\n\u001B[1;32m    383\u001B[0m \u001B[43m        \u001B[49m\u001B[43mnum_outputs\u001B[49m\u001B[38;5;241;43m=\u001B[39;49m\u001B[38;5;28;43mself\u001B[39;49m\u001B[38;5;241;43m.\u001B[39;49m\u001B[43m_num_outputs\u001B[49m\u001B[43m,\u001B[49m\n\u001B[1;32m    384\u001B[0m \u001B[43m        \u001B[49m\u001B[43minputs\u001B[49m\u001B[38;5;241;43m=\u001B[39;49m\u001B[43margs\u001B[49m\u001B[43m,\u001B[49m\n\u001B[1;32m    385\u001B[0m \u001B[43m        \u001B[49m\u001B[43mattrs\u001B[49m\u001B[38;5;241;43m=\u001B[39;49m\u001B[43mattrs\u001B[49m\u001B[43m,\u001B[49m\n\u001B[1;32m    386\u001B[0m \u001B[43m        \u001B[49m\u001B[43mctx\u001B[49m\u001B[38;5;241;43m=\u001B[39;49m\u001B[43mctx\u001B[49m\u001B[43m)\u001B[49m\n\u001B[1;32m    387\u001B[0m   \u001B[38;5;28;01melse\u001B[39;00m:\n\u001B[1;32m    388\u001B[0m     outputs \u001B[38;5;241m=\u001B[39m execute\u001B[38;5;241m.\u001B[39mexecute_with_cancellation(\n\u001B[1;32m    389\u001B[0m         \u001B[38;5;28mstr\u001B[39m(\u001B[38;5;28mself\u001B[39m\u001B[38;5;241m.\u001B[39msignature\u001B[38;5;241m.\u001B[39mname),\n\u001B[1;32m    390\u001B[0m         num_outputs\u001B[38;5;241m=\u001B[39m\u001B[38;5;28mself\u001B[39m\u001B[38;5;241m.\u001B[39m_num_outputs,\n\u001B[0;32m   (...)\u001B[0m\n\u001B[1;32m    393\u001B[0m         ctx\u001B[38;5;241m=\u001B[39mctx,\n\u001B[1;32m    394\u001B[0m         cancellation_manager\u001B[38;5;241m=\u001B[39mcancellation_manager)\n",
      "File \u001B[0;32m~/anaconda3/envs/exAI/lib/python3.11/site-packages/tensorflow/python/eager/execute.py:52\u001B[0m, in \u001B[0;36mquick_execute\u001B[0;34m(op_name, num_outputs, inputs, attrs, ctx, name)\u001B[0m\n\u001B[1;32m     50\u001B[0m \u001B[38;5;28;01mtry\u001B[39;00m:\n\u001B[1;32m     51\u001B[0m   ctx\u001B[38;5;241m.\u001B[39mensure_initialized()\n\u001B[0;32m---> 52\u001B[0m   tensors \u001B[38;5;241m=\u001B[39m \u001B[43mpywrap_tfe\u001B[49m\u001B[38;5;241;43m.\u001B[39;49m\u001B[43mTFE_Py_Execute\u001B[49m\u001B[43m(\u001B[49m\u001B[43mctx\u001B[49m\u001B[38;5;241;43m.\u001B[39;49m\u001B[43m_handle\u001B[49m\u001B[43m,\u001B[49m\u001B[43m \u001B[49m\u001B[43mdevice_name\u001B[49m\u001B[43m,\u001B[49m\u001B[43m \u001B[49m\u001B[43mop_name\u001B[49m\u001B[43m,\u001B[49m\n\u001B[1;32m     53\u001B[0m \u001B[43m                                      \u001B[49m\u001B[43minputs\u001B[49m\u001B[43m,\u001B[49m\u001B[43m \u001B[49m\u001B[43mattrs\u001B[49m\u001B[43m,\u001B[49m\u001B[43m \u001B[49m\u001B[43mnum_outputs\u001B[49m\u001B[43m)\u001B[49m\n\u001B[1;32m     54\u001B[0m \u001B[38;5;28;01mexcept\u001B[39;00m core\u001B[38;5;241m.\u001B[39m_NotOkStatusException \u001B[38;5;28;01mas\u001B[39;00m e:\n\u001B[1;32m     55\u001B[0m   \u001B[38;5;28;01mif\u001B[39;00m name \u001B[38;5;129;01mis\u001B[39;00m \u001B[38;5;129;01mnot\u001B[39;00m \u001B[38;5;28;01mNone\u001B[39;00m:\n",
      "\u001B[0;31mKeyboardInterrupt\u001B[0m: "
     ]
    }
   ],
   "execution_count": 26
  },
  {
   "cell_type": "code",
   "metadata": {
    "id": "NNaQkmw5r_xU",
    "colab": {
     "base_uri": "https://localhost:8080/"
    },
    "outputId": "3fd81c9c-78c9-4e4b-8464-60df319e6ed8"
   },
   "source": [
    "# Avalia o modelo\n",
    "score, acc = model.evaluate(X_test_pad, y_test_cat, batch_size=32)\n",
    "\n",
    "print('Pontuação do teste:', score)\n",
    "print('Acurácia do teste:', acc)\n",
    "\n",
    "# Obter previsões para os dados de teste\n",
    "y_pred_prob = model.predict(X_test_pad)\n",
    "y_pred = np.argmax(y_pred_prob, axis=1)\n",
    "y_true = np.argmax(y_test_cat, axis=1)\n",
    "\n",
    "# Gerar o relatório de classificação\n",
    "report = classification_report(y_true, y_pred, target_names=label_mapping.keys())\n",
    "print(report)"
   ],
   "outputs": [],
   "execution_count": null
  },
  {
   "cell_type": "code",
   "source": [
    "model.save_weights('meu_modelo_pesos.weights.h5')"
   ],
   "metadata": {
    "colab": {
     "base_uri": "https://localhost:8080/",
     "height": 300
    },
    "id": "1yC1-BDk5YYV",
    "outputId": "92746c5d-c837-4d97-e8b8-03be496b07ae"
   },
   "outputs": [],
   "execution_count": null
  },
  {
   "cell_type": "markdown",
   "metadata": {
    "id": "Qc1AQNvgnLg2"
   },
   "source": [
    "# LRP"
   ]
  },
  {
   "cell_type": "markdown",
   "metadata": {
    "id": "RPejCnKCnPsb"
   },
   "source": [
    "# Lime"
   ]
  }
 ],
 "metadata": {
  "accelerator": "GPU",
  "colab": {
   "gpuType": "T4",
   "provenance": []
  },
  "kernelspec": {
   "display_name": "Python 3 (ipykernel)",
   "name": "python3",
   "language": "python"
  },
  "language_info": {
   "name": "python"
  }
 },
 "nbformat": 4,
 "nbformat_minor": 0
}
